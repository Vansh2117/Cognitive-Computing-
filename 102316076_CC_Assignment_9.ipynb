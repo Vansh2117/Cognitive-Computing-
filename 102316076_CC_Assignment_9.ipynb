{
  "nbformat": 4,
  "nbformat_minor": 0,
  "metadata": {
    "colab": {
      "provenance": []
    },
    "kernelspec": {
      "name": "python3",
      "display_name": "Python 3"
    },
    "language_info": {
      "name": "python"
    }
  },
  "cells": [
    {
      "cell_type": "markdown",
      "source": [
        "Q1. Write a unique paragraph (5-6 sentences) about your favorite topic (e.g., sports, technology, food, books, etc.).\n",
        "\n",
        "1. Convert text to lowercase and remove punctuaƟon.\n",
        "2. Tokenize the text into words and sentences.\n",
        "3. Remove stopwords (using NLTK's stopwords list).\n",
        "4. Display word frequency distribuƟon (excluding stopwords)"
      ],
      "metadata": {
        "id": "t_7Pj1-LRgmL"
      }
    },
    {
      "cell_type": "code",
      "source": [
        "import re\n",
        "import string\n",
        "import nltk\n",
        "from nltk.corpus import stopwords\n",
        "from nltk.tokenize import word_tokenize, sent_tokenize\n",
        "from nltk.stem import PorterStemmer, LancasterStemmer\n",
        "from nltk.stem import WordNetLemmatizer\n",
        "from collections import Counter\n",
        "\n",
        "nltk.download('punkt_tab')\n",
        "nltk.download('stopwords')\n",
        "nltk.download('wordnet')\n"
      ],
      "metadata": {
        "colab": {
          "base_uri": "https://localhost:8080/"
        },
        "id": "cVZKI05TR6eJ",
        "outputId": "4bcfa28d-a5c2-4c6e-cfef-851525b566be"
      },
      "execution_count": 13,
      "outputs": [
        {
          "output_type": "stream",
          "name": "stderr",
          "text": [
            "[nltk_data] Downloading package punkt_tab to /root/nltk_data...\n",
            "[nltk_data]   Package punkt_tab is already up-to-date!\n",
            "[nltk_data] Downloading package stopwords to /root/nltk_data...\n",
            "[nltk_data]   Package stopwords is already up-to-date!\n",
            "[nltk_data] Downloading package wordnet to /root/nltk_data...\n",
            "[nltk_data]   Package wordnet is already up-to-date!\n"
          ]
        },
        {
          "output_type": "execute_result",
          "data": {
            "text/plain": [
              "True"
            ]
          },
          "metadata": {},
          "execution_count": 13
        }
      ]
    },
    {
      "cell_type": "code",
      "source": [
        "text = \"\"\"\n",
        "The coastal town of Meriden has recently experienced a surge in tourism, thanks to its scenic beaches, historic lighthouse, and vibrant local markets.\n",
        "Visitors from across the country are drawn to its quiet charm and welcoming community.\n",
        "In response, local businesses have expanded, introducing eco-friendly cafes, bike rental services, and boutique hotels.\n",
        "However, the rapid growth has also raised concerns about sustainability, waste management, and the preservation of natural habitats.\n",
        "Community leaders are now working with environmental groups to ensure that tourism continues without compromising the town’s ecological balance.\n",
        "\"\"\"\n",
        "\n",
        "# 1. Convert text to lowercase and remove punctuation\n",
        "text_lower = text.lower()\n",
        "text_clean = text_lower.translate(str.maketrans('', '', string.punctuation))\n",
        "print(\"Cleaned Text:\")\n",
        "print(text_clean)\n",
        "\n",
        "# 2. Tokenize the text into words and sentence\n",
        "words = word_tokenize(text_clean)\n",
        "sentences = sent_tokenize(text)\n",
        "print(\"\\nTokens:\")\n",
        "print(words)\n",
        "\n",
        "# 3. Remove stopwords\n",
        "stop_words = set(stopwords.words('english'))\n",
        "filtered_words = [word for word in words if word not in stop_words]\n",
        "print(\"\\nFiltered Words:\")\n",
        "print(filtered_words)\n",
        "\n",
        "# 4. Display word frequency distribution\n",
        "word_freq = Counter(filtered_words)\n",
        "print(\"Word Frequency Distribution (Excluding Stopwords):\")\n",
        "print(word_freq)"
      ],
      "metadata": {
        "colab": {
          "base_uri": "https://localhost:8080/"
        },
        "id": "hS4norwQU7v4",
        "outputId": "48921643-fd04-4905-e130-6b0989e47c34"
      },
      "execution_count": 14,
      "outputs": [
        {
          "output_type": "stream",
          "name": "stdout",
          "text": [
            "Cleaned Text:\n",
            "\n",
            "the coastal town of meriden has recently experienced a surge in tourism thanks to its scenic beaches historic lighthouse and vibrant local markets \n",
            "visitors from across the country are drawn to its quiet charm and welcoming community \n",
            "in response local businesses have expanded introducing ecofriendly cafes bike rental services and boutique hotels \n",
            "however the rapid growth has also raised concerns about sustainability waste management and the preservation of natural habitats \n",
            "community leaders are now working with environmental groups to ensure that tourism continues without compromising the town’s ecological balance\n",
            "\n",
            "\n",
            "Tokens:\n",
            "['the', 'coastal', 'town', 'of', 'meriden', 'has', 'recently', 'experienced', 'a', 'surge', 'in', 'tourism', 'thanks', 'to', 'its', 'scenic', 'beaches', 'historic', 'lighthouse', 'and', 'vibrant', 'local', 'markets', 'visitors', 'from', 'across', 'the', 'country', 'are', 'drawn', 'to', 'its', 'quiet', 'charm', 'and', 'welcoming', 'community', 'in', 'response', 'local', 'businesses', 'have', 'expanded', 'introducing', 'ecofriendly', 'cafes', 'bike', 'rental', 'services', 'and', 'boutique', 'hotels', 'however', 'the', 'rapid', 'growth', 'has', 'also', 'raised', 'concerns', 'about', 'sustainability', 'waste', 'management', 'and', 'the', 'preservation', 'of', 'natural', 'habitats', 'community', 'leaders', 'are', 'now', 'working', 'with', 'environmental', 'groups', 'to', 'ensure', 'that', 'tourism', 'continues', 'without', 'compromising', 'the', 'town', '’', 's', 'ecological', 'balance']\n",
            "\n",
            "Filtered Words:\n",
            "['coastal', 'town', 'meriden', 'recently', 'experienced', 'surge', 'tourism', 'thanks', 'scenic', 'beaches', 'historic', 'lighthouse', 'vibrant', 'local', 'markets', 'visitors', 'across', 'country', 'drawn', 'quiet', 'charm', 'welcoming', 'community', 'response', 'local', 'businesses', 'expanded', 'introducing', 'ecofriendly', 'cafes', 'bike', 'rental', 'services', 'boutique', 'hotels', 'however', 'rapid', 'growth', 'also', 'raised', 'concerns', 'sustainability', 'waste', 'management', 'preservation', 'natural', 'habitats', 'community', 'leaders', 'working', 'environmental', 'groups', 'ensure', 'tourism', 'continues', 'without', 'compromising', 'town', '’', 'ecological', 'balance']\n",
            "Word Frequency Distribution (Excluding Stopwords):\n",
            "Counter({'town': 2, 'tourism': 2, 'local': 2, 'community': 2, 'coastal': 1, 'meriden': 1, 'recently': 1, 'experienced': 1, 'surge': 1, 'thanks': 1, 'scenic': 1, 'beaches': 1, 'historic': 1, 'lighthouse': 1, 'vibrant': 1, 'markets': 1, 'visitors': 1, 'across': 1, 'country': 1, 'drawn': 1, 'quiet': 1, 'charm': 1, 'welcoming': 1, 'response': 1, 'businesses': 1, 'expanded': 1, 'introducing': 1, 'ecofriendly': 1, 'cafes': 1, 'bike': 1, 'rental': 1, 'services': 1, 'boutique': 1, 'hotels': 1, 'however': 1, 'rapid': 1, 'growth': 1, 'also': 1, 'raised': 1, 'concerns': 1, 'sustainability': 1, 'waste': 1, 'management': 1, 'preservation': 1, 'natural': 1, 'habitats': 1, 'leaders': 1, 'working': 1, 'environmental': 1, 'groups': 1, 'ensure': 1, 'continues': 1, 'without': 1, 'compromising': 1, '’': 1, 'ecological': 1, 'balance': 1})\n"
          ]
        }
      ]
    },
    {
      "cell_type": "markdown",
      "source": [
        "Q2: Stemming and LemmaƟzaƟon\n",
        "\n",
        "1. Take the tokenized words from QuesƟon 1 (aŌer stopword removal).\n",
        "2. Apply stemming using NLTK's PorterStemmer and LancasterStemmer.\n",
        "3. Apply lemmaƟzaƟon using NLTK's WordNetLemmaƟzer.\n",
        "4. Compare and display results of both techniques"
      ],
      "metadata": {
        "id": "ywe09RRBVG5f"
      }
    },
    {
      "cell_type": "code",
      "source": [
        "porter_stemmer = PorterStemmer()\n",
        "lancaster_stemmer = LancasterStemmer()\n",
        "lemmatizer = WordNetLemmatizer()\n",
        "porter_stemmed = [porter_stemmer.stem(word) for word in filtered_words]\n",
        "lancaster_stemmed = [lancaster_stemmer.stem(word) for word in filtered_words]\n",
        "lemmatized = [lemmatizer.lemmatize(word) for word in filtered_words]\n",
        "print(\"\\nStemming (PorterStemmer):\", porter_stemmed)\n",
        "print(\"\\nStemming (LancasterStemmer):\", lancaster_stemmed)\n",
        "print(\"\\nLemmatization:\", lemmatized)"
      ],
      "metadata": {
        "colab": {
          "base_uri": "https://localhost:8080/"
        },
        "id": "B4efGkU6VLNe",
        "outputId": "10e28bfd-6e0a-490f-8653-bd18da936666"
      },
      "execution_count": 15,
      "outputs": [
        {
          "output_type": "stream",
          "name": "stdout",
          "text": [
            "\n",
            "Stemming (PorterStemmer): ['coastal', 'town', 'meriden', 'recent', 'experienc', 'surg', 'tourism', 'thank', 'scenic', 'beach', 'histor', 'lighthous', 'vibrant', 'local', 'market', 'visitor', 'across', 'countri', 'drawn', 'quiet', 'charm', 'welcom', 'commun', 'respons', 'local', 'busi', 'expand', 'introduc', 'ecofriendli', 'cafe', 'bike', 'rental', 'servic', 'boutiqu', 'hotel', 'howev', 'rapid', 'growth', 'also', 'rais', 'concern', 'sustain', 'wast', 'manag', 'preserv', 'natur', 'habitat', 'commun', 'leader', 'work', 'environment', 'group', 'ensur', 'tourism', 'continu', 'without', 'compromis', 'town', '’', 'ecolog', 'balanc']\n",
            "\n",
            "Stemming (LancasterStemmer): ['coast', 'town', 'merid', 'rec', 'expery', 'surg', 'tour', 'thank', 'scen', 'beach', 'hist', 'lighth', 'vibr', 'loc', 'market', 'visit', 'across', 'country', 'drawn', 'quiet', 'charm', 'welcom', 'commun', 'respons', 'loc', 'busy', 'expand', 'introduc', 'ecofriend', 'caf', 'bik', 'rent', 'serv', 'bout', 'hotel', 'howev', 'rapid', 'grow', 'also', 'rais', 'concern', 'sustain', 'wast', 'man', 'preserv', 'nat', 'habit', 'commun', 'lead', 'work', 'environ', 'group', 'ens', 'tour', 'continu', 'without', 'comprom', 'town', '’', 'ecolog', 'bal']\n",
            "\n",
            "Lemmatization: ['coastal', 'town', 'meriden', 'recently', 'experienced', 'surge', 'tourism', 'thanks', 'scenic', 'beach', 'historic', 'lighthouse', 'vibrant', 'local', 'market', 'visitor', 'across', 'country', 'drawn', 'quiet', 'charm', 'welcoming', 'community', 'response', 'local', 'business', 'expanded', 'introducing', 'ecofriendly', 'cafe', 'bike', 'rental', 'service', 'boutique', 'hotel', 'however', 'rapid', 'growth', 'also', 'raised', 'concern', 'sustainability', 'waste', 'management', 'preservation', 'natural', 'habitat', 'community', 'leader', 'working', 'environmental', 'group', 'ensure', 'tourism', 'continues', 'without', 'compromising', 'town', '’', 'ecological', 'balance']\n"
          ]
        }
      ]
    },
    {
      "cell_type": "markdown",
      "source": [
        "Q3. Regular Expressions and Text Spliƫng\n",
        "\n",
        "Take their original text from QuesƟon 1.\n",
        "Use regular expressions to: a. Extract all words with more than 5 leƩers. b. Extract all numbers (if any exist in their text). c. Extract all capitalized words.\n",
        "Use text spliƫng techniques to: a. Split the text into words containing only alphabets (removing digits and special characters). b. Extract words starƟng with a vowel."
      ],
      "metadata": {
        "id": "2eOd2mYXVYWS"
      }
    },
    {
      "cell_type": "code",
      "source": [
        "long_words = re.findall(r'\\b\\w{6,}\\b', text_clean)\n",
        "print(\"\\nWords with more than 5 letters:\", long_words)\n",
        "\n",
        "numbers = re.findall(r'\\b\\d+\\b', text_clean)\n",
        "print(\"\\nNumbers found in text:\", numbers)\n",
        "\n",
        "capitalized_words = re.findall(r'\\b[A-Z][a-z]*\\b', text_clean)\n",
        "print(\"\\nCapitalized words:\", capitalized_words)\n",
        "\n",
        "alphabetic_words = re.findall(r'\\b[a-zA-Z]+\\b', text_clean)\n",
        "print(\"\\nAlphabetic words:\", alphabetic_words)\n",
        "\n",
        "vowel_words = re.findall(r'\\b[aeiouAEIOU]\\w*\\b', text_clean)\n",
        "print(\"\\nWords starting with a vowel:\", vowel_words)"
      ],
      "metadata": {
        "colab": {
          "base_uri": "https://localhost:8080/"
        },
        "id": "NZvm9HRzVeIV",
        "outputId": "7d05b0c6-c851-4e04-89bf-8d8024e906fe"
      },
      "execution_count": 16,
      "outputs": [
        {
          "output_type": "stream",
          "name": "stdout",
          "text": [
            "\n",
            "Words with more than 5 letters: ['coastal', 'meriden', 'recently', 'experienced', 'tourism', 'thanks', 'scenic', 'beaches', 'historic', 'lighthouse', 'vibrant', 'markets', 'visitors', 'across', 'country', 'welcoming', 'community', 'response', 'businesses', 'expanded', 'introducing', 'ecofriendly', 'rental', 'services', 'boutique', 'hotels', 'however', 'growth', 'raised', 'concerns', 'sustainability', 'management', 'preservation', 'natural', 'habitats', 'community', 'leaders', 'working', 'environmental', 'groups', 'ensure', 'tourism', 'continues', 'without', 'compromising', 'ecological', 'balance']\n",
            "\n",
            "Numbers found in text: []\n",
            "\n",
            "Capitalized words: []\n",
            "\n",
            "Alphabetic words: ['the', 'coastal', 'town', 'of', 'meriden', 'has', 'recently', 'experienced', 'a', 'surge', 'in', 'tourism', 'thanks', 'to', 'its', 'scenic', 'beaches', 'historic', 'lighthouse', 'and', 'vibrant', 'local', 'markets', 'visitors', 'from', 'across', 'the', 'country', 'are', 'drawn', 'to', 'its', 'quiet', 'charm', 'and', 'welcoming', 'community', 'in', 'response', 'local', 'businesses', 'have', 'expanded', 'introducing', 'ecofriendly', 'cafes', 'bike', 'rental', 'services', 'and', 'boutique', 'hotels', 'however', 'the', 'rapid', 'growth', 'has', 'also', 'raised', 'concerns', 'about', 'sustainability', 'waste', 'management', 'and', 'the', 'preservation', 'of', 'natural', 'habitats', 'community', 'leaders', 'are', 'now', 'working', 'with', 'environmental', 'groups', 'to', 'ensure', 'that', 'tourism', 'continues', 'without', 'compromising', 'the', 'town', 's', 'ecological', 'balance']\n",
            "\n",
            "Words starting with a vowel: ['of', 'experienced', 'a', 'in', 'its', 'and', 'across', 'are', 'its', 'and', 'in', 'expanded', 'introducing', 'ecofriendly', 'and', 'also', 'about', 'and', 'of', 'are', 'environmental', 'ensure', 'ecological']\n"
          ]
        }
      ]
    },
    {
      "cell_type": "markdown",
      "source": [
        "Q4. Custom TokenizaƟon & Regex-based Text Cleaning\n",
        "\n",
        "Take original text from QuesƟon 1.\n",
        "Write a custom tokenizaƟon funcƟon that: a. Removes punctuaƟon and special symbols, but keeps contracƟons (e.g., \"isn't\" should not be split into \"is\" and \"n't\"). b. Handles hyphenated words as a single token (e.g., \"state-of-the-art\" remains a single token). c. Tokenizes numbers separately but keeps decimal numbers intact (e.g., \"3.14\" should remain as is).\n",
        "Use Regex SubsƟtuƟons (re.sub) to: a. Replace email addresses with '' placeholder. b. Replace URLs with '' placeholder. c. Replace phone numbers (formats: 123-456-7890 or +91 9876543210) with '' placeholder."
      ],
      "metadata": {
        "id": "AMrICNmsVq57"
      }
    },
    {
      "cell_type": "code",
      "source": [
        "def custom_tokenizer(text):\n",
        "    text = text.lower()\n",
        "    text = re.sub(r'[^\\w\\s\\'-]', '', text)\n",
        "    return word_tokenize(text)\n",
        "\n",
        "custom_tokens = custom_tokenizer(text)\n",
        "print(\"\\nCustom Tokenized Text:\", custom_tokens)\n",
        "\n",
        "text_with_emails = re.sub(r'\\b[A-Za-z0-9._%+-]+@[A-Za-z0-9.-]+\\.[A-Z|a-z]{2,7}\\b', '<EMAIL>', text)\n",
        "\n",
        "text_with_urls = re.sub(r'http[s]?://(?:[a-zA-Z]|[0-9]|[$-_@.&+]|[!*\\\\(\\\\),]|(?:%[0-9a-fA-F][0-9a-fA-F]))+', '<URL>', text_with_emails)\n",
        "\n",
        "text_cleaned = re.sub(r'(\\+?\\d{1,2}\\s?)?(\\(?\\d{3}\\)?[-.\\s]?\\d{3}[-.\\s]?\\d{4})', '<PHONE>', text_with_urls)\n",
        "\n",
        "print(\"\\nText with Emails, URLs, and Phone Numbers Replaced:\")\n",
        "print(text_cleaned)"
      ],
      "metadata": {
        "colab": {
          "base_uri": "https://localhost:8080/"
        },
        "id": "DKDZ8_paVuq9",
        "outputId": "a2bac0b4-10d0-4597-b752-c729d2ee33d6"
      },
      "execution_count": 17,
      "outputs": [
        {
          "output_type": "stream",
          "name": "stdout",
          "text": [
            "\n",
            "Custom Tokenized Text: ['the', 'coastal', 'town', 'of', 'meriden', 'has', 'recently', 'experienced', 'a', 'surge', 'in', 'tourism', 'thanks', 'to', 'its', 'scenic', 'beaches', 'historic', 'lighthouse', 'and', 'vibrant', 'local', 'markets', 'visitors', 'from', 'across', 'the', 'country', 'are', 'drawn', 'to', 'its', 'quiet', 'charm', 'and', 'welcoming', 'community', 'in', 'response', 'local', 'businesses', 'have', 'expanded', 'introducing', 'eco-friendly', 'cafes', 'bike', 'rental', 'services', 'and', 'boutique', 'hotels', 'however', 'the', 'rapid', 'growth', 'has', 'also', 'raised', 'concerns', 'about', 'sustainability', 'waste', 'management', 'and', 'the', 'preservation', 'of', 'natural', 'habitats', 'community', 'leaders', 'are', 'now', 'working', 'with', 'environmental', 'groups', 'to', 'ensure', 'that', 'tourism', 'continues', 'without', 'compromising', 'the', 'towns', 'ecological', 'balance']\n",
            "\n",
            "Text with Emails, URLs, and Phone Numbers Replaced:\n",
            "\n",
            "The coastal town of Meriden has recently experienced a surge in tourism, thanks to its scenic beaches, historic lighthouse, and vibrant local markets. \n",
            "Visitors from across the country are drawn to its quiet charm and welcoming community. \n",
            "In response, local businesses have expanded, introducing eco-friendly cafes, bike rental services, and boutique hotels. \n",
            "However, the rapid growth has also raised concerns about sustainability, waste management, and the preservation of natural habitats. \n",
            "Community leaders are now working with environmental groups to ensure that tourism continues without compromising the town’s ecological balance.\n",
            "\n"
          ]
        }
      ]
    }
  ]
}