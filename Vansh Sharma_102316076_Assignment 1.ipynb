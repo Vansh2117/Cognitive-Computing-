{
  "nbformat": 4,
  "nbformat_minor": 0,
  "metadata": {
    "colab": {
      "provenance": []
    },
    "kernelspec": {
      "name": "python3",
      "display_name": "Python 3"
    },
    "language_info": {
      "name": "python"
    }
  },
  "cells": [
    {
      "cell_type": "markdown",
      "metadata": {
        "id": "oBs7uRGQPn3J"
      },
      "source": [
        "**Assingment 1.1**: WAP to print your name three times"
      ]
    },
    {
      "cell_type": "code",
      "source": [
        "for i in range(3):\n",
        "  print (\"Bhagat Singh\")"
      ],
      "metadata": {
        "colab": {
          "base_uri": "https://localhost:8080/"
        },
        "id": "gW0oBPIP07wk",
        "outputId": "7bca84c6-9963-4bf8-dd17-482fa00372a4"
      },
      "execution_count": 1,
      "outputs": [
        {
          "output_type": "stream",
          "name": "stdout",
          "text": [
            "Bhagat Singh\n",
            "Bhagat Singh\n",
            "Bhagat Singh\n"
          ]
        }
      ]
    },
    {
      "cell_type": "markdown",
      "metadata": {
        "id": "hA7PLi-m4V8s"
      },
      "source": [
        "**Assingment 2.1**: WAP to add three numbers and print the result.\n",
        "\n",
        "**Assingment 2.2**: WAP to concatinate three strings and print the result."
      ]
    },
    {
      "cell_type": "code",
      "source": [
        "# Assignment 2.1\n",
        "a=int(input(\"write a number = \"))\n",
        "b=int(input(\"write a number = \"))\n",
        "c=int(input(\"write a number = \"))\n",
        "result=a+b+c\n",
        "print(result)\n",
        "\n",
        "#Assignment 2.2\n",
        "a=input(\"write a string = \")\n",
        "b=input(\"write a string = \")\n",
        "c=input(\"write a string = \")\n",
        "result=a+b+c\n",
        "print(result)"
      ],
      "metadata": {
        "colab": {
          "base_uri": "https://localhost:8080/"
        },
        "id": "5PGXp__w1pN6",
        "outputId": "c980ed2d-7274-4f04-a8c4-59aa23f49e24"
      },
      "execution_count": 3,
      "outputs": [
        {
          "output_type": "stream",
          "name": "stdout",
          "text": [
            "write a number = 1\n",
            "write a number = 2\n",
            "write a number = 3\n",
            "6\n",
            "write a string = v\n",
            "write a string = a\n",
            "write a string = n\n",
            "van\n"
          ]
        }
      ]
    },
    {
      "cell_type": "markdown",
      "metadata": {
        "id": "DnUEH0WQ-pua"
      },
      "source": [
        "**Assingment 4.1:** WAP to print the table of 7, 9.\n",
        "\n",
        "**Assingment 4.2:** WAP to print the table of n and n is given by user.\n",
        "\n",
        "**Assingment 4.3:** WAP to add all the numbers from 1 to n and n is given by user."
      ]
    },
    {
      "cell_type": "code",
      "source": [
        "# Assignment 4.1\n",
        "for i in range(10):\n",
        "  print(\"7 * \",i,\" = \",7*i)\n",
        "for i in range(10):\n",
        "  print(\"9 * \",i,\" = \",9*i)\n",
        "# Assignment 4.2\n",
        "n=int(input(\"write a number = \"))\n",
        "for i in range(10):\n",
        "  print(n,\" * \",i,\" = \",n*i)\n",
        "# Assignment 4.3\n",
        "n=int(input(\"write a number = \"))\n",
        "sum=0\n",
        "for i in range(n+1):\n",
        "  sum=sum+i\n",
        "print(sum)"
      ],
      "metadata": {
        "colab": {
          "base_uri": "https://localhost:8080/"
        },
        "id": "EJDlKkeZ2qzf",
        "outputId": "382a5500-c6bf-40b5-f049-87819e5905a0"
      },
      "execution_count": 5,
      "outputs": [
        {
          "output_type": "stream",
          "name": "stdout",
          "text": [
            "7 *  0  =  0\n",
            "7 *  1  =  7\n",
            "7 *  2  =  14\n",
            "7 *  3  =  21\n",
            "7 *  4  =  28\n",
            "7 *  5  =  35\n",
            "7 *  6  =  42\n",
            "7 *  7  =  49\n",
            "7 *  8  =  56\n",
            "7 *  9  =  63\n",
            "9 *  0  =  0\n",
            "9 *  1  =  9\n",
            "9 *  2  =  18\n",
            "9 *  3  =  27\n",
            "9 *  4  =  36\n",
            "9 *  5  =  45\n",
            "9 *  6  =  54\n",
            "9 *  7  =  63\n",
            "9 *  8  =  72\n",
            "9 *  9  =  81\n",
            "write a number = 1\n",
            "1  *  0  =  0\n",
            "1  *  1  =  1\n",
            "1  *  2  =  2\n",
            "1  *  3  =  3\n",
            "1  *  4  =  4\n",
            "1  *  5  =  5\n",
            "1  *  6  =  6\n",
            "1  *  7  =  7\n",
            "1  *  8  =  8\n",
            "1  *  9  =  9\n",
            "write a number = 2\n",
            "3\n"
          ]
        }
      ]
    },
    {
      "cell_type": "markdown",
      "metadata": {
        "id": "bPPQtf1ACJRg"
      },
      "source": [
        "**Assingment 5.1:** WAP to find max amoung three numbers and input from user. [Try max() function]\n",
        "\n",
        "**Assingment 5.2:** WAP to add all numbers divisible by 7 and 9 from 1 to n and n is given by the user.\n",
        "\n",
        "**Assingment 5.3:** WAP to add all prime numbers from 1 to n and n is given by the user.\n"
      ]
    },
    {
      "cell_type": "code",
      "source": [
        "# Assignment 5.1\n",
        "a=int(input(\"write a number = \"))\n",
        "b=int(input(\"write a number = \"))\n",
        "c=int(input(\"write a number = \"))\n",
        "print(max(a,b,c))\n",
        "# Assignment 5.2\n",
        "n=int(input(\"write a number = \"))\n",
        "sum=0\n",
        "for i in range(n+1):\n",
        "  if i%7==0 or i%9==0:\n",
        "    sum=sum+i\n",
        "print(sum)\n",
        "# Assignment 5.3\n",
        "n=int(input(\"write a number = \"))\n",
        "for i in range(1,n):\n",
        "  for j in range(2,i//2+1):\n",
        "    if i%j==0:\n",
        "      break\n",
        "  else:\n",
        "    sum=sum+i\n",
        "print(sum)"
      ],
      "metadata": {
        "colab": {
          "base_uri": "https://localhost:8080/"
        },
        "id": "OLzgLEfq5P8Z",
        "outputId": "fe352dd4-3c54-41e0-d906-2be0f4d1a313"
      },
      "execution_count": 7,
      "outputs": [
        {
          "output_type": "stream",
          "name": "stdout",
          "text": [
            "write a number = 2\n",
            "write a number = 3\n",
            "write a number = 4\n",
            "4\n",
            "write a number = 2\n",
            "0\n",
            "write a number = 10\n",
            "18\n"
          ]
        }
      ]
    },
    {
      "cell_type": "markdown",
      "metadata": {
        "id": "bWcn3nSlDipg"
      },
      "source": [
        "\n",
        "**Assingment 6.1:** WAP using function that add all odd numbers from 1 to n, n is given by the user.\n",
        "\n",
        "**Assingment 6.2:** WAP using function that add all prime numbers from 1 to n, n given by the user."
      ]
    },
    {
      "cell_type": "code",
      "source": [
        "# Assignment 6.1\n",
        "def AddOdd(n):\n",
        "  sum=0\n",
        "  for i in range(n+1):\n",
        "    if i%2!=0:\n",
        "      sum=sum+i\n",
        "  return sum\n",
        "n=int(input(\"write a number = \"))\n",
        "print(AddOdd(n))\n",
        "# Assignment 6.2\n",
        "def AddPrime(n):\n",
        "  sum=0\n",
        "  for i in range(1,n):\n",
        "    for j in range(2,i//2+1):\n",
        "      if i%j==0:\n",
        "        break\n",
        "    else:\n",
        "      sum=sum+i\n",
        "  return sum\n",
        "n=int(input(\"write a number = \"))\n",
        "print(AddPrime(n))"
      ],
      "metadata": {
        "colab": {
          "base_uri": "https://localhost:8080/"
        },
        "id": "X_fgiQAs6vIp",
        "outputId": "7ea8ad73-ff54-4ed3-c3f1-f30dd90ac12d"
      },
      "execution_count": 11,
      "outputs": [
        {
          "output_type": "stream",
          "name": "stdout",
          "text": [
            "write a number = 10\n",
            "25\n",
            "write a number = 10\n",
            "18\n"
          ]
        }
      ]
    }
  ]
}
