{
  "nbformat": 4,
  "nbformat_minor": 0,
  "metadata": {
    "colab": {
      "provenance": []
    },
    "kernelspec": {
      "name": "python3",
      "display_name": "Python 3"
    },
    "language_info": {
      "name": "python"
    }
  },
  "cells": [
    {
      "cell_type": "code",
      "execution_count": 2,
      "metadata": {
        "colab": {
          "base_uri": "https://localhost:8080/"
        },
        "id": "kL4A93tA8JYi",
        "outputId": "955a4165-6c52-4597-f660-8972346029fa"
      },
      "outputs": [
        {
          "output_type": "stream",
          "name": "stdout",
          "text": [
            "Original Array: [1 2 3 4 5]\n",
            "After adding 2: [3 4 5 6 7]\n",
            "After multiplying by 3: [ 3  6  9 12 15]\n",
            "After dividing by 2: [0.5 1.  1.5 2.  2.5]\n"
          ]
        }
      ],
      "source": [
        "import numpy as np\n",
        "# Q1\n",
        "arr1 = np.array([1, 2, 3, 4, 5])\n",
        "print(\"Original Array:\", arr1)\n",
        "arr_add = arr1 + 2\n",
        "print(\"After adding 2:\", arr_add)\n",
        "\n",
        "arr_mult = arr1 * 3\n",
        "print(\"After multiplying by 3:\", arr_mult)\n",
        "\n",
        "arr_div = arr1 / 2\n",
        "print(\"After dividing by 2:\", arr_div)\n"
      ]
    },
    {
      "cell_type": "code",
      "source": [
        "import numpy as np\n",
        "# Q2\n",
        "arr2 = np.array([1, 2, 3, 6, 4, 5])\n",
        "arr_rev = arr2[::-1]\n",
        "print(\"Reversed array:\", arr_rev)\n",
        "\n",
        "def most_frequent(arr):\n",
        "    vals, counts = np.unique(arr, return_counts=True)\n",
        "    max_count = np.max(counts)\n",
        "    most_freq_val = vals[np.argmax(counts)]\n",
        "    indices = np.where(arr == most_freq_val)[0]\n",
        "    return most_freq_val, indices\n",
        "\n",
        "x = np.array([1,2,3,4,5,1,2,1,1,1])\n",
        "y = np.array([1,1,1,2,3,4,2,4,3,3])\n",
        "\n",
        "val_x, indices_x = most_frequent(x)\n",
        "print(f\"Most frequent value in x: {val_x}, Indices: {indices_x}\")\n",
        "\n",
        "val_y, indices_y = most_frequent(y)\n",
        "print(f\"Most frequent value in y: {val_y}, Indices: {indices_y}\")"
      ],
      "metadata": {
        "colab": {
          "base_uri": "https://localhost:8080/"
        },
        "id": "TqArYWSe-E57",
        "outputId": "1c347bc3-0936-4d3a-c70b-470ea57ca961"
      },
      "execution_count": 3,
      "outputs": [
        {
          "output_type": "stream",
          "name": "stdout",
          "text": [
            "Reversed array: [5 4 6 3 2 1]\n",
            "Most frequent value in x: 1, Indices: [0 5 7 8 9]\n",
            "Most frequent value in y: 1, Indices: [0 1 2]\n"
          ]
        }
      ]
    },
    {
      "cell_type": "code",
      "source": [
        "import numpy as np\n",
        "# Q3\n",
        "arr3 = np.array([[10, 20, 30], [40, 50, 60], [70, 80, 90]])\n",
        "print(\"Element at 1st row, 2nd column:\", arr3[0, 1])\n",
        "print(\"Element at 3rd row, 1st column:\", arr3[2, 0])"
      ],
      "metadata": {
        "colab": {
          "base_uri": "https://localhost:8080/"
        },
        "id": "tQhlz0C3-XMl",
        "outputId": "8f06824f-ee27-4c80-e760-66e98935eff2"
      },
      "execution_count": 4,
      "outputs": [
        {
          "output_type": "stream",
          "name": "stdout",
          "text": [
            "Element at 1st row, 2nd column: 20\n",
            "Element at 3rd row, 1st column: 70\n"
          ]
        }
      ]
    },
    {
      "cell_type": "code",
      "source": [
        "import numpy as np\n",
        "# Q4\n",
        "my_name_arr = np.linspace(10, 100, 25)\n",
        "print(\"My Name Array:\", my_name_arr)\n",
        "\n",
        "print(\"Dimensions:\", my_name_arr.ndim)\n",
        "print(\"Shape:\", my_name_arr.shape)\n",
        "print(\"Total elements:\", my_name_arr.size)\n",
        "print(\"Data type:\", my_name_arr.dtype)\n",
        "print(\"Total bytes:\", my_name_arr.nbytes)\n",
        "\n",
        "transposed_arr = my_name_arr.reshape(25, 1)\n",
        "print(\"Transposed using reshape():\\n\", transposed_arr)\n",
        "\n",
        "print(\"Using T attribute:\", my_name_arr.T)"
      ],
      "metadata": {
        "colab": {
          "base_uri": "https://localhost:8080/"
        },
        "id": "yDwpaHGl-bbR",
        "outputId": "4fdde34c-052e-49f3-e6e5-d9948b55eb84"
      },
      "execution_count": 7,
      "outputs": [
        {
          "output_type": "stream",
          "name": "stdout",
          "text": [
            "My Name Array: [ 10.    13.75  17.5   21.25  25.    28.75  32.5   36.25  40.    43.75\n",
            "  47.5   51.25  55.    58.75  62.5   66.25  70.    73.75  77.5   81.25\n",
            "  85.    88.75  92.5   96.25 100.  ]\n",
            "Dimensions: 1\n",
            "Shape: (25,)\n",
            "Total elements: 25\n",
            "Data type: float64\n",
            "Total bytes: 200\n",
            "Transposed using reshape():\n",
            " [[ 10.  ]\n",
            " [ 13.75]\n",
            " [ 17.5 ]\n",
            " [ 21.25]\n",
            " [ 25.  ]\n",
            " [ 28.75]\n",
            " [ 32.5 ]\n",
            " [ 36.25]\n",
            " [ 40.  ]\n",
            " [ 43.75]\n",
            " [ 47.5 ]\n",
            " [ 51.25]\n",
            " [ 55.  ]\n",
            " [ 58.75]\n",
            " [ 62.5 ]\n",
            " [ 66.25]\n",
            " [ 70.  ]\n",
            " [ 73.75]\n",
            " [ 77.5 ]\n",
            " [ 81.25]\n",
            " [ 85.  ]\n",
            " [ 88.75]\n",
            " [ 92.5 ]\n",
            " [ 96.25]\n",
            " [100.  ]]\n",
            "Using T attribute: [ 10.    13.75  17.5   21.25  25.    28.75  32.5   36.25  40.    43.75\n",
            "  47.5   51.25  55.    58.75  62.5   66.25  70.    73.75  77.5   81.25\n",
            "  85.    88.75  92.5   96.25 100.  ]\n"
          ]
        }
      ]
    },
    {
      "cell_type": "code",
      "source": [
        "import numpy as np\n",
        "# Q5\n",
        "ucs420_myname = np.array([[10, 20, 30, 40], [50, 60, 70, 80], [90, 15, 20, 35]])\n",
        "print(\"Original 2D array:\\n\", ucs420_myname)\n",
        "print(\"Mean:\", np.mean(ucs420_myname))\n",
        "print(\"Median:\", np.median(ucs420_myname))\n",
        "print(\"Max:\", np.max(ucs420_myname))\n",
        "print(\"Min:\", np.min(ucs420_myname))\n",
        "print(\"Unique elements:\", np.unique(ucs420_myname))\n",
        "reshaped_ucs420_myname = ucs420_myname.reshape(4, 3)\n",
        "print(\"Reshaped to 4x3:\\n\", reshaped_ucs420_myname)\n",
        "resized_ucs420_myname = np.resize(ucs420_myname, (2, 3))\n",
        "print(\"Resized to 2x3:\\n\", resized_ucs420_myname)"
      ],
      "metadata": {
        "colab": {
          "base_uri": "https://localhost:8080/"
        },
        "id": "_6AtH07n-lUO",
        "outputId": "83efcf4e-0486-487b-ff23-bea7c4a5766e"
      },
      "execution_count": 1,
      "outputs": [
        {
          "output_type": "stream",
          "name": "stdout",
          "text": [
            "Original 2D array:\n",
            " [[10 20 30 40]\n",
            " [50 60 70 80]\n",
            " [90 15 20 35]]\n",
            "Mean: 43.333333333333336\n",
            "Median: 37.5\n",
            "Max: 90\n",
            "Min: 10\n",
            "Unique elements: [10 15 20 30 35 40 50 60 70 80 90]\n",
            "Reshaped to 4x3:\n",
            " [[10 20 30]\n",
            " [40 50 60]\n",
            " [70 80 90]\n",
            " [15 20 35]]\n",
            "Resized to 2x3:\n",
            " [[10 20 30]\n",
            " [40 50 60]]\n"
          ]
        }
      ]
    }
  ]
}